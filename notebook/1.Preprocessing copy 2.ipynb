{
 "cells": [
  {
   "cell_type": "markdown",
   "metadata": {},
   "source": [
    "## 1 Import Data and Required Packages\n",
    "### 1.1 Import Libraries"
   ]
  },
  {
   "cell_type": "code",
   "execution_count": 2,
   "metadata": {},
   "outputs": [],
   "source": [
    "import numpy as np\n",
    "import pandas as pd\n",
    "import seaborn as sns\n",
    "import matplotlib as plt\n",
    "%matplotlib inline\n",
    "\n",
    "from sklearn.preprocessing import LabelEncoder, MinMaxScaler"
   ]
  },
  {
   "cell_type": "markdown",
   "metadata": {},
   "source": [
    "### 1.2 Load Data and display it"
   ]
  },
  {
   "cell_type": "code",
   "execution_count": 3,
   "metadata": {},
   "outputs": [
    {
     "data": {
      "text/html": [
       "<div>\n",
       "<style scoped>\n",
       "    .dataframe tbody tr th:only-of-type {\n",
       "        vertical-align: middle;\n",
       "    }\n",
       "\n",
       "    .dataframe tbody tr th {\n",
       "        vertical-align: top;\n",
       "    }\n",
       "\n",
       "    .dataframe thead th {\n",
       "        text-align: right;\n",
       "    }\n",
       "</style>\n",
       "<table border=\"1\" class=\"dataframe\">\n",
       "  <thead>\n",
       "    <tr style=\"text-align: right;\">\n",
       "      <th></th>\n",
       "      <th>ID</th>\n",
       "      <th>Nom</th>\n",
       "      <th>Prénom</th>\n",
       "      <th>Fonction</th>\n",
       "      <th>Domaine</th>\n",
       "      <th>Niveau</th>\n",
       "      <th>ColonneNiveau</th>\n",
       "      <th>Niveau d'experience en conception</th>\n",
       "      <th>ColonneExperience</th>\n",
       "      <th>Localisation</th>\n",
       "      <th>...</th>\n",
       "      <th>Prétention</th>\n",
       "      <th>Préavis</th>\n",
       "      <th>Commentaire</th>\n",
       "      <th>TJM</th>\n",
       "      <th>target</th>\n",
       "      <th>Source</th>\n",
       "      <th>Url</th>\n",
       "      <th>Colonne1</th>\n",
       "      <th>ID2</th>\n",
       "      <th>Gender</th>\n",
       "    </tr>\n",
       "  </thead>\n",
       "  <tbody>\n",
       "    <tr>\n",
       "      <th>0</th>\n",
       "      <td>1</td>\n",
       "      <td>EL JANATI</td>\n",
       "      <td>Salim</td>\n",
       "      <td>Management de qualité</td>\n",
       "      <td>ingénieu qualité</td>\n",
       "      <td>Bac+5</td>\n",
       "      <td>5</td>\n",
       "      <td>7 ans</td>\n",
       "      <td>7.000000</td>\n",
       "      <td>Tanger</td>\n",
       "      <td>...</td>\n",
       "      <td>NaN</td>\n",
       "      <td>NaN</td>\n",
       "      <td>NaN</td>\n",
       "      <td>NaN</td>\n",
       "      <td>NaN</td>\n",
       "      <td>Linkedin</td>\n",
       "      <td>https://www.linkedin.com/in/salim-el-janati-45...</td>\n",
       "      <td>salim-el-janati-455459183</td>\n",
       "      <td>f934b06e-bbdc-4d5f-b3b8-75c0e2a14df3</td>\n",
       "      <td>M</td>\n",
       "    </tr>\n",
       "    <tr>\n",
       "      <th>1</th>\n",
       "      <td>2</td>\n",
       "      <td>AALILECH</td>\n",
       "      <td>Khouloud</td>\n",
       "      <td>Économie / Finance / Gestion</td>\n",
       "      <td>économie / gestion</td>\n",
       "      <td>Bac+3</td>\n",
       "      <td>3</td>\n",
       "      <td>1 an</td>\n",
       "      <td>1.000000</td>\n",
       "      <td>Tanger</td>\n",
       "      <td>...</td>\n",
       "      <td>NaN</td>\n",
       "      <td>NaN</td>\n",
       "      <td>NaN</td>\n",
       "      <td>NaN</td>\n",
       "      <td>NaN</td>\n",
       "      <td>Linkedin</td>\n",
       "      <td>https://www.linkedin.com/in/khouloud-aalilech-...</td>\n",
       "      <td>khouloud-aalilech-3a2b04296</td>\n",
       "      <td>NaN</td>\n",
       "      <td>F</td>\n",
       "    </tr>\n",
       "    <tr>\n",
       "      <th>2</th>\n",
       "      <td>3</td>\n",
       "      <td>AATTAR</td>\n",
       "      <td>Zakaria</td>\n",
       "      <td>Génie Mecanique</td>\n",
       "      <td>technicien spécialisé</td>\n",
       "      <td>Bac+2</td>\n",
       "      <td>2</td>\n",
       "      <td>3 ans</td>\n",
       "      <td>3.000000</td>\n",
       "      <td>Rabat</td>\n",
       "      <td>...</td>\n",
       "      <td>NaN</td>\n",
       "      <td>NaN</td>\n",
       "      <td>NaN</td>\n",
       "      <td>NaN</td>\n",
       "      <td>NaN</td>\n",
       "      <td>Linkedin</td>\n",
       "      <td>https://www.linkedin.com/in/zakaria-aattar-731...</td>\n",
       "      <td>zakaria-aattar-731342214</td>\n",
       "      <td>715afa81-a5f7-4313-87f4-bd7ecef1f3a3</td>\n",
       "      <td>M</td>\n",
       "    </tr>\n",
       "    <tr>\n",
       "      <th>3</th>\n",
       "      <td>4</td>\n",
       "      <td>ABABOU</td>\n",
       "      <td>Asaad</td>\n",
       "      <td>systemes electronique</td>\n",
       "      <td>ingénieur</td>\n",
       "      <td>Bac+5</td>\n",
       "      <td>5</td>\n",
       "      <td>7 ans</td>\n",
       "      <td>7.000000</td>\n",
       "      <td>Tanger</td>\n",
       "      <td>...</td>\n",
       "      <td>NaN</td>\n",
       "      <td>NaN</td>\n",
       "      <td>NaN</td>\n",
       "      <td>NaN</td>\n",
       "      <td>NaN</td>\n",
       "      <td>Linkedin</td>\n",
       "      <td>https://www.linkedin.com/in/asaad-ababou-15072...</td>\n",
       "      <td>asaad-ababou-1507225a</td>\n",
       "      <td>NaN</td>\n",
       "      <td>M</td>\n",
       "    </tr>\n",
       "    <tr>\n",
       "      <th>4</th>\n",
       "      <td>5</td>\n",
       "      <td>ABAHRI</td>\n",
       "      <td>Hamza</td>\n",
       "      <td>Ingénieur en électricité et industrie</td>\n",
       "      <td>Ingénieur Industriel</td>\n",
       "      <td>Bac+5</td>\n",
       "      <td>5</td>\n",
       "      <td>2 ans</td>\n",
       "      <td>2.000000</td>\n",
       "      <td>Tanger</td>\n",
       "      <td>...</td>\n",
       "      <td>NaN</td>\n",
       "      <td>NaN</td>\n",
       "      <td>NaN</td>\n",
       "      <td>NaN</td>\n",
       "      <td>1.0</td>\n",
       "      <td>cv</td>\n",
       "      <td>NaN</td>\n",
       "      <td>NaN</td>\n",
       "      <td>NaN</td>\n",
       "      <td>M</td>\n",
       "    </tr>\n",
       "    <tr>\n",
       "      <th>...</th>\n",
       "      <td>...</td>\n",
       "      <td>...</td>\n",
       "      <td>...</td>\n",
       "      <td>...</td>\n",
       "      <td>...</td>\n",
       "      <td>...</td>\n",
       "      <td>...</td>\n",
       "      <td>...</td>\n",
       "      <td>...</td>\n",
       "      <td>...</td>\n",
       "      <td>...</td>\n",
       "      <td>...</td>\n",
       "      <td>...</td>\n",
       "      <td>...</td>\n",
       "      <td>...</td>\n",
       "      <td>...</td>\n",
       "      <td>...</td>\n",
       "      <td>...</td>\n",
       "      <td>...</td>\n",
       "      <td>...</td>\n",
       "      <td>...</td>\n",
       "    </tr>\n",
       "    <tr>\n",
       "      <th>1031</th>\n",
       "      <td>1032</td>\n",
       "      <td>ZOUHRI</td>\n",
       "      <td>Hidaya</td>\n",
       "      <td>Ingénieur Industriel</td>\n",
       "      <td>ingénieur industriel</td>\n",
       "      <td>Bac+5</td>\n",
       "      <td>5</td>\n",
       "      <td>4 mois</td>\n",
       "      <td>0.333333</td>\n",
       "      <td>Casablanca</td>\n",
       "      <td>...</td>\n",
       "      <td>NaN</td>\n",
       "      <td>NaN</td>\n",
       "      <td>NaN</td>\n",
       "      <td>NaN</td>\n",
       "      <td>NaN</td>\n",
       "      <td>Linkedin + CV</td>\n",
       "      <td>https://www.linkedin.com/in/hicham-ahmamsi/</td>\n",
       "      <td>hicham-ahmamsi</td>\n",
       "      <td>NaN</td>\n",
       "      <td>F</td>\n",
       "    </tr>\n",
       "    <tr>\n",
       "      <th>1032</th>\n",
       "      <td>1033</td>\n",
       "      <td>ZOUHRI</td>\n",
       "      <td>Amine</td>\n",
       "      <td>Économie / Finance / Gestion</td>\n",
       "      <td>économie / gestion</td>\n",
       "      <td>Bac+3</td>\n",
       "      <td>3</td>\n",
       "      <td>2 ans</td>\n",
       "      <td>2.000000</td>\n",
       "      <td>Mohammedia</td>\n",
       "      <td>...</td>\n",
       "      <td>NaN</td>\n",
       "      <td>NaN</td>\n",
       "      <td>NaN</td>\n",
       "      <td>NaN</td>\n",
       "      <td>NaN</td>\n",
       "      <td>Linkedin</td>\n",
       "      <td>https://www.linkedin.com/in/amine-zouhri-ba676...</td>\n",
       "      <td>amine-zouhri-ba676a247</td>\n",
       "      <td>NaN</td>\n",
       "      <td>M</td>\n",
       "    </tr>\n",
       "    <tr>\n",
       "      <th>1033</th>\n",
       "      <td>1034</td>\n",
       "      <td>ZRAKTOUNI</td>\n",
       "      <td>Nouhaila</td>\n",
       "      <td>Économie / Finance / Gestion</td>\n",
       "      <td>économie / gestion</td>\n",
       "      <td>Bac+3</td>\n",
       "      <td>3</td>\n",
       "      <td>8 mois</td>\n",
       "      <td>0.666667</td>\n",
       "      <td>Fkih-Ben Saleh</td>\n",
       "      <td>...</td>\n",
       "      <td>NaN</td>\n",
       "      <td>NaN</td>\n",
       "      <td>NaN</td>\n",
       "      <td>NaN</td>\n",
       "      <td>NaN</td>\n",
       "      <td>Linkedin</td>\n",
       "      <td>https://www.linkedin.com/in/nouhaila-zraktouni...</td>\n",
       "      <td>nouhaila-zraktouni-754863264</td>\n",
       "      <td>NaN</td>\n",
       "      <td>F</td>\n",
       "    </tr>\n",
       "    <tr>\n",
       "      <th>1034</th>\n",
       "      <td>1035</td>\n",
       "      <td>ZRHITI</td>\n",
       "      <td>Youssef</td>\n",
       "      <td>Diagnostic Et Electronique Embarquée</td>\n",
       "      <td>technicien spécialisé</td>\n",
       "      <td>Bac+2</td>\n",
       "      <td>2</td>\n",
       "      <td>4 mois</td>\n",
       "      <td>0.333333</td>\n",
       "      <td>Souk El Arbaa</td>\n",
       "      <td>...</td>\n",
       "      <td>NaN</td>\n",
       "      <td>NaN</td>\n",
       "      <td>NaN</td>\n",
       "      <td>NaN</td>\n",
       "      <td>NaN</td>\n",
       "      <td>cv Architecte automobile</td>\n",
       "      <td>NaN</td>\n",
       "      <td>NaN</td>\n",
       "      <td>NaN</td>\n",
       "      <td>M</td>\n",
       "    </tr>\n",
       "    <tr>\n",
       "      <th>1035</th>\n",
       "      <td>1036</td>\n",
       "      <td>ZRODIYA</td>\n",
       "      <td>Elmehdi</td>\n",
       "      <td>signal microelectronique et system</td>\n",
       "      <td>ingénieur</td>\n",
       "      <td>Bac+5</td>\n",
       "      <td>5</td>\n",
       "      <td>4 ans</td>\n",
       "      <td>4.000000</td>\n",
       "      <td>fes</td>\n",
       "      <td>...</td>\n",
       "      <td>NaN</td>\n",
       "      <td>NaN</td>\n",
       "      <td>NaN</td>\n",
       "      <td>NaN</td>\n",
       "      <td>NaN</td>\n",
       "      <td>Linkedin</td>\n",
       "      <td>https://www.linkedin.com/in/elmehdi-zrodiya-2a...</td>\n",
       "      <td>elmehdi-zrodiya-2a578a181</td>\n",
       "      <td>NaN</td>\n",
       "      <td>M</td>\n",
       "    </tr>\n",
       "  </tbody>\n",
       "</table>\n",
       "<p>1036 rows × 21 columns</p>\n",
       "</div>"
      ],
      "text/plain": [
       "        ID         Nom     Prénom                               Fonction  \\\n",
       "0        1   EL JANATI     Salim                   Management de qualité   \n",
       "1        2    AALILECH  Khouloud            Économie / Finance / Gestion   \n",
       "2        3      AATTAR   Zakaria                         Génie Mecanique   \n",
       "3        4      ABABOU     Asaad                   systemes electronique   \n",
       "4        5      ABAHRI      Hamza  Ingénieur en électricité et industrie   \n",
       "...    ...         ...        ...                                    ...   \n",
       "1031  1032      ZOUHRI     Hidaya                   Ingénieur Industriel   \n",
       "1032  1033      ZOUHRI     Amine            Économie / Finance / Gestion   \n",
       "1033  1034   ZRAKTOUNI  Nouhaila            Économie / Finance / Gestion   \n",
       "1034  1035      ZRHITI    Youssef   Diagnostic Et Electronique Embarquée   \n",
       "1035  1036     ZRODIYA   Elmehdi      signal microelectronique et system   \n",
       "\n",
       "                    Domaine Niveau  ColonneNiveau  \\\n",
       "0          ingénieu qualité  Bac+5              5   \n",
       "1        économie / gestion  Bac+3              3   \n",
       "2     technicien spécialisé  Bac+2              2   \n",
       "3                 ingénieur  Bac+5              5   \n",
       "4      Ingénieur Industriel  Bac+5              5   \n",
       "...                     ...    ...            ...   \n",
       "1031   ingénieur industriel  Bac+5              5   \n",
       "1032     économie / gestion  Bac+3              3   \n",
       "1033     économie / gestion  Bac+3              3   \n",
       "1034  technicien spécialisé  Bac+2              2   \n",
       "1035              ingénieur  Bac+5              5   \n",
       "\n",
       "     Niveau d'experience en conception  ColonneExperience    Localisation  \\\n",
       "0                                7 ans           7.000000          Tanger   \n",
       "1                                 1 an           1.000000          Tanger   \n",
       "2                                3 ans           3.000000           Rabat   \n",
       "3                                7 ans           7.000000          Tanger   \n",
       "4                                2 ans           2.000000         Tanger    \n",
       "...                                ...                ...             ...   \n",
       "1031                            4 mois           0.333333      Casablanca   \n",
       "1032                             2 ans           2.000000      Mohammedia   \n",
       "1033                            8 mois           0.666667  Fkih-Ben Saleh   \n",
       "1034                            4 mois           0.333333   Souk El Arbaa   \n",
       "1035                             4 ans           4.000000             fes   \n",
       "\n",
       "      ... Prétention  Préavis Commentaire  TJM  target  \\\n",
       "0     ...        NaN      NaN         NaN  NaN     NaN   \n",
       "1     ...        NaN      NaN         NaN  NaN     NaN   \n",
       "2     ...        NaN      NaN         NaN  NaN     NaN   \n",
       "3     ...        NaN      NaN         NaN  NaN     NaN   \n",
       "4     ...        NaN      NaN         NaN  NaN     1.0   \n",
       "...   ...        ...      ...         ...  ...     ...   \n",
       "1031  ...        NaN      NaN         NaN  NaN     NaN   \n",
       "1032  ...        NaN      NaN         NaN  NaN     NaN   \n",
       "1033  ...        NaN      NaN         NaN  NaN     NaN   \n",
       "1034  ...        NaN      NaN         NaN  NaN     NaN   \n",
       "1035  ...        NaN      NaN         NaN  NaN     NaN   \n",
       "\n",
       "                        Source  \\\n",
       "0                     Linkedin   \n",
       "1                     Linkedin   \n",
       "2                     Linkedin   \n",
       "3                     Linkedin   \n",
       "4                           cv   \n",
       "...                        ...   \n",
       "1031             Linkedin + CV   \n",
       "1032                  Linkedin   \n",
       "1033                  Linkedin   \n",
       "1034  cv Architecte automobile   \n",
       "1035                  Linkedin   \n",
       "\n",
       "                                                    Url  \\\n",
       "0     https://www.linkedin.com/in/salim-el-janati-45...   \n",
       "1     https://www.linkedin.com/in/khouloud-aalilech-...   \n",
       "2     https://www.linkedin.com/in/zakaria-aattar-731...   \n",
       "3     https://www.linkedin.com/in/asaad-ababou-15072...   \n",
       "4                                                   NaN   \n",
       "...                                                 ...   \n",
       "1031        https://www.linkedin.com/in/hicham-ahmamsi/   \n",
       "1032  https://www.linkedin.com/in/amine-zouhri-ba676...   \n",
       "1033  https://www.linkedin.com/in/nouhaila-zraktouni...   \n",
       "1034                                                NaN   \n",
       "1035  https://www.linkedin.com/in/elmehdi-zrodiya-2a...   \n",
       "\n",
       "                          Colonne1                                   ID2  \\\n",
       "0        salim-el-janati-455459183  f934b06e-bbdc-4d5f-b3b8-75c0e2a14df3   \n",
       "1      khouloud-aalilech-3a2b04296                                   NaN   \n",
       "2         zakaria-aattar-731342214  715afa81-a5f7-4313-87f4-bd7ecef1f3a3   \n",
       "3            asaad-ababou-1507225a                                   NaN   \n",
       "4                              NaN                                   NaN   \n",
       "...                            ...                                   ...   \n",
       "1031                hicham-ahmamsi                                   NaN   \n",
       "1032        amine-zouhri-ba676a247                                   NaN   \n",
       "1033  nouhaila-zraktouni-754863264                                   NaN   \n",
       "1034                           NaN                                   NaN   \n",
       "1035     elmehdi-zrodiya-2a578a181                                   NaN   \n",
       "\n",
       "     Gender  \n",
       "0         M  \n",
       "1         F  \n",
       "2         M  \n",
       "3         M  \n",
       "4         M  \n",
       "...     ...  \n",
       "1031      F  \n",
       "1032      M  \n",
       "1033      F  \n",
       "1034      M  \n",
       "1035      M  \n",
       "\n",
       "[1036 rows x 21 columns]"
      ]
     },
     "execution_count": 3,
     "metadata": {},
     "output_type": "execute_result"
    }
   ],
   "source": [
    "file_path = './data/data.xlsx' \n",
    "df = pd.read_excel(file_path)\n",
    "pd.DataFrame(df)"
   ]
  },
  {
   "cell_type": "markdown",
   "metadata": {},
   "source": [
    "### 1.3 Dataset informations"
   ]
  },
  {
   "cell_type": "code",
   "execution_count": 4,
   "metadata": {},
   "outputs": [
    {
     "name": "stdout",
     "output_type": "stream",
     "text": [
      "DataFrame:\n",
      "   ID         Nom     Prénom                               Fonction  \\\n",
      "0   1   EL JANATI     Salim                   Management de qualité   \n",
      "1   2    AALILECH  Khouloud            Économie / Finance / Gestion   \n",
      "2   3      AATTAR   Zakaria                         Génie Mecanique   \n",
      "3   4      ABABOU     Asaad                   systemes electronique   \n",
      "4   5      ABAHRI      Hamza  Ingénieur en électricité et industrie   \n",
      "\n",
      "                 Domaine Niveau  ColonneNiveau  \\\n",
      "0       ingénieu qualité  Bac+5              5   \n",
      "1     économie / gestion  Bac+3              3   \n",
      "2  technicien spécialisé  Bac+2              2   \n",
      "3              ingénieur  Bac+5              5   \n",
      "4   Ingénieur Industriel  Bac+5              5   \n",
      "\n",
      "  Niveau d'experience en conception  ColonneExperience Localisation  ...  \\\n",
      "0                             7 ans                7.0       Tanger  ...   \n",
      "1                              1 an                1.0       Tanger  ...   \n",
      "2                             3 ans                3.0        Rabat  ...   \n",
      "3                             7 ans                7.0       Tanger  ...   \n",
      "4                             2 ans                2.0      Tanger   ...   \n",
      "\n",
      "  Prétention  Préavis Commentaire  TJM  target    Source  \\\n",
      "0        NaN      NaN         NaN  NaN     NaN  Linkedin   \n",
      "1        NaN      NaN         NaN  NaN     NaN  Linkedin   \n",
      "2        NaN      NaN         NaN  NaN     NaN  Linkedin   \n",
      "3        NaN      NaN         NaN  NaN     NaN  Linkedin   \n",
      "4        NaN      NaN         NaN  NaN     1.0        cv   \n",
      "\n",
      "                                                 Url  \\\n",
      "0  https://www.linkedin.com/in/salim-el-janati-45...   \n",
      "1  https://www.linkedin.com/in/khouloud-aalilech-...   \n",
      "2  https://www.linkedin.com/in/zakaria-aattar-731...   \n",
      "3  https://www.linkedin.com/in/asaad-ababou-15072...   \n",
      "4                                                NaN   \n",
      "\n",
      "                      Colonne1                                   ID2 Gender  \n",
      "0    salim-el-janati-455459183  f934b06e-bbdc-4d5f-b3b8-75c0e2a14df3      M  \n",
      "1  khouloud-aalilech-3a2b04296                                   NaN      F  \n",
      "2     zakaria-aattar-731342214  715afa81-a5f7-4313-87f4-bd7ecef1f3a3      M  \n",
      "3        asaad-ababou-1507225a                                   NaN      M  \n",
      "4                          NaN                                   NaN      M  \n",
      "\n",
      "[5 rows x 21 columns]\n",
      "<class 'pandas.core.frame.DataFrame'>\n",
      "RangeIndex: 1036 entries, 0 to 1035\n",
      "Data columns (total 21 columns):\n",
      " #   Column                             Non-Null Count  Dtype  \n",
      "---  ------                             --------------  -----  \n",
      " 0   ID                                 1036 non-null   int64  \n",
      " 1   Nom                                1036 non-null   object \n",
      " 2   Prénom                             1036 non-null   object \n",
      " 3   Fonction                           1035 non-null   object \n",
      " 4   Domaine                            1036 non-null   object \n",
      " 5   Niveau                             1036 non-null   object \n",
      " 6   ColonneNiveau                      1036 non-null   int64  \n",
      " 7   Niveau d'experience en conception  1036 non-null   object \n",
      " 8   ColonneExperience                  1036 non-null   float64\n",
      " 9   Localisation                       1035 non-null   object \n",
      " 10  Salaire Actuel                     9 non-null      object \n",
      " 11  Prétention                         8 non-null      float64\n",
      " 12  Préavis                            31 non-null     object \n",
      " 13  Commentaire                        0 non-null      float64\n",
      " 14  TJM                                0 non-null      float64\n",
      " 15  target                             55 non-null     float64\n",
      " 16  Source                             975 non-null    object \n",
      " 17  Url                                804 non-null    object \n",
      " 18  Colonne1                           804 non-null    object \n",
      " 19  ID2                                42 non-null     object \n",
      " 20  Gender                             1036 non-null   object \n",
      "dtypes: float64(5), int64(2), object(14)\n",
      "memory usage: 170.1+ KB\n",
      "None\n"
     ]
    }
   ],
   "source": [
    "print(\"DataFrame:\")\n",
    "print(df.head())\n",
    "print(df.info())"
   ]
  },
  {
   "cell_type": "code",
   "execution_count": 5,
   "metadata": {},
   "outputs": [
    {
     "name": "stdout",
     "output_type": "stream",
     "text": [
      "       ColonneNiveau  ColonneExperience\n",
      "count        1036.00            1036.00\n",
      "mean            4.18               3.63\n",
      "std             1.49               3.78\n",
      "min             0.00               0.00\n",
      "25%             3.00               1.00\n",
      "50%             5.00               2.00\n",
      "75%             5.00               5.00\n",
      "max            12.00              29.00\n"
     ]
    }
   ],
   "source": [
    "selected_columns = ['ColonneNiveau', 'ColonneExperience']\n",
    "description = df[selected_columns].describe().round(2)\n",
    "print(description)"
   ]
  },
  {
   "cell_type": "code",
   "execution_count": 6,
   "metadata": {},
   "outputs": [
    {
     "name": "stdout",
     "output_type": "stream",
     "text": [
      "Categories in 'gender' variable:      ['M' 'F']\n",
      "Categories in 'race_ethnicity' variable:   ['ingénieu qualité' 'économie / gestion' 'technicien spécialisé'\n",
      " 'ingénieur' 'Ingénieur Industriel' 'opérateur' 'chargé de développement'\n",
      " 'concepteur/ dessinateur' 'logistique' 'ingénieur mécanique'\n",
      " 'ingénieur process' 'ingénieur industriel' 'autres' 'technicien']\n"
     ]
    }
   ],
   "source": [
    "print(\"Categories in 'gender' variable:     \",end=\" \" )\n",
    "print(df['Gender'].unique())\n",
    "\n",
    "print(\"Categories in 'race_ethnicity' variable:  \",end=\" \")\n",
    "print(df['Domaine'].unique())"
   ]
  },
  {
   "cell_type": "markdown",
   "metadata": {},
   "source": [
    "## 2 Data Labelling"
   ]
  },
  {
   "cell_type": "markdown",
   "metadata": {},
   "source": [
    "### 2.1 Min-Max Scaling function"
   ]
  },
  {
   "cell_type": "code",
   "execution_count": 7,
   "metadata": {},
   "outputs": [],
   "source": [
    "def min_max_scaling(column):\n",
    "    try:\n",
    "        return (column - column.min()) / (column.max() - column.min())\n",
    "    except TypeError:\n",
    "        # Handle the case where the column contains non-numeric values\n",
    "        print(f\"Skipping normalization for non-numeric column: {column.name}\")\n",
    "        return column"
   ]
  },
  {
   "cell_type": "markdown",
   "metadata": {},
   "source": [
    "### 2.2 Apply Min-Max Scaling to selected columns"
   ]
  },
  {
   "cell_type": "code",
   "execution_count": 8,
   "metadata": {},
   "outputs": [],
   "source": [
    "columns_to_normalize = ['ColonneExperience','ColonneNiveau']\n",
    "\n",
    "# Apply Min-Max Scaling to selected columns\n",
    "for column in columns_to_normalize:\n",
    "    df[f'Normalized_{column}'] = min_max_scaling(df[column])"
   ]
  },
  {
   "cell_type": "markdown",
   "metadata": {},
   "source": [
    "### 2.3 Calculate a weighted score based on normalized columns"
   ]
  },
  {
   "cell_type": "code",
   "execution_count": 9,
   "metadata": {},
   "outputs": [
    {
     "name": "stdout",
     "output_type": "stream",
     "text": [
      "ID                                     int64\n",
      "Nom                                   object\n",
      "Prénom                                object\n",
      "Fonction                              object\n",
      "Domaine                               object\n",
      "Niveau                                object\n",
      "ColonneNiveau                          int64\n",
      "Niveau d'experience en conception     object\n",
      "ColonneExperience                    float64\n",
      "Localisation                          object\n",
      "Salaire Actuel                        object\n",
      "Prétention                           float64\n",
      "Préavis                               object\n",
      "Commentaire                          float64\n",
      "TJM                                  float64\n",
      "target                               float64\n",
      "Source                                object\n",
      "Url                                   object\n",
      "Colonne1                              object\n",
      "ID2                                   object\n",
      "Gender                                object\n",
      "Normalized_ColonneExperience         float64\n",
      "Normalized_ColonneNiveau             float64\n",
      "Weighted_Score                       float64\n",
      "dtype: object\n",
      "threshold 0.21431733457595528\n"
     ]
    }
   ],
   "source": [
    "weights = {'ColonneExperience': 0.6, 'ColonneNiveau': 0.4}\n",
    "\n",
    "df['Weighted_Score'] = sum(df[f'Normalized_{col}'] * weights[col] for col in weights)\n",
    "print(df.dtypes)\n",
    "df['Weighted_Score'] = df['Weighted_Score'].astype(float)\n",
    "threshold=df['Weighted_Score'].mean()\n",
    "print('threshold',threshold)"
   ]
  },
  {
   "cell_type": "markdown",
   "metadata": {},
   "source": [
    "### 2.4 Label the dataset"
   ]
  },
  {
   "cell_type": "code",
   "execution_count": 10,
   "metadata": {},
   "outputs": [
    {
     "name": "stdout",
     "output_type": "stream",
     "text": [
      "\n",
      "DataFrame with Output :\n",
      "   ID         Nom     Prénom                               Fonction  \\\n",
      "0   1   EL JANATI     Salim                   Management de qualité   \n",
      "1   2    AALILECH  Khouloud            Économie / Finance / Gestion   \n",
      "2   3      AATTAR   Zakaria                         Génie Mecanique   \n",
      "3   4      ABABOU     Asaad                   systemes electronique   \n",
      "4   5      ABAHRI      Hamza  Ingénieur en électricité et industrie   \n",
      "\n",
      "                 Domaine Niveau  ColonneNiveau  \\\n",
      "0       ingénieu qualité  Bac+5              5   \n",
      "1     économie / gestion  Bac+3              3   \n",
      "2  technicien spécialisé  Bac+2              2   \n",
      "3              ingénieur  Bac+5              5   \n",
      "4   Ingénieur Industriel  Bac+5              5   \n",
      "\n",
      "  Niveau d'experience en conception  ColonneExperience Localisation  ...  \\\n",
      "0                             7 ans                7.0       Tanger  ...   \n",
      "1                              1 an                1.0       Tanger  ...   \n",
      "2                             3 ans                3.0        Rabat  ...   \n",
      "3                             7 ans                7.0       Tanger  ...   \n",
      "4                             2 ans                2.0      Tanger   ...   \n",
      "\n",
      "  target    Source                                                Url  \\\n",
      "0    NaN  Linkedin  https://www.linkedin.com/in/salim-el-janati-45...   \n",
      "1    NaN  Linkedin  https://www.linkedin.com/in/khouloud-aalilech-...   \n",
      "2    NaN  Linkedin  https://www.linkedin.com/in/zakaria-aattar-731...   \n",
      "3    NaN  Linkedin  https://www.linkedin.com/in/asaad-ababou-15072...   \n",
      "4    1.0        cv                                                NaN   \n",
      "\n",
      "                      Colonne1                                   ID2  Gender  \\\n",
      "0    salim-el-janati-455459183  f934b06e-bbdc-4d5f-b3b8-75c0e2a14df3       M   \n",
      "1  khouloud-aalilech-3a2b04296                                   NaN       F   \n",
      "2     zakaria-aattar-731342214  715afa81-a5f7-4313-87f4-bd7ecef1f3a3       M   \n",
      "3        asaad-ababou-1507225a                                   NaN       M   \n",
      "4                          NaN                                   NaN       M   \n",
      "\n",
      "  Normalized_ColonneExperience Normalized_ColonneNiveau Weighted_Score Output  \n",
      "0                         0.24                     0.42           0.31    1.0  \n",
      "1                         0.03                     0.25           0.12    0.0  \n",
      "2                         0.10                     0.17           0.13    0.0  \n",
      "3                         0.24                     0.42           0.31    1.0  \n",
      "4                         0.07                     0.42           0.21    0.0  \n",
      "\n",
      "[5 rows x 25 columns]\n"
     ]
    }
   ],
   "source": [
    "for i, row in df.iterrows():\n",
    "    if row['Weighted_Score']>=(threshold):\n",
    "        df.at[i, 'Output'] = 1\n",
    "    else:\n",
    "        df.at[i, 'Output'] = 0\n",
    "\n",
    "# Display the labelled  Dataset\n",
    "print(\"\\nDataFrame with Output :\")\n",
    "df = df.round(2)\n",
    "print(df.head())"
   ]
  },
  {
   "cell_type": "markdown",
   "metadata": {},
   "source": [
    "## 3 Data Cleaning\n",
    "### 3.1 Drop unnecessary columns"
   ]
  },
  {
   "cell_type": "code",
   "execution_count": 11,
   "metadata": {},
   "outputs": [
    {
     "data": {
      "text/plain": [
       "Index(['Domaine', 'Gender', 'Normalized_ColonneExperience',\n",
       "       'Normalized_ColonneNiveau', 'Weighted_Score', 'Output'],\n",
       "      dtype='object')"
      ]
     },
     "execution_count": 11,
     "metadata": {},
     "output_type": "execute_result"
    }
   ],
   "source": [
    "df=df\n",
    "df=df.drop(['ID','Nom','Prénom','Fonction','Niveau','ColonneNiveau',\n",
    "            \"Niveau d'experience en conception\",'ColonneExperience',\n",
    "            'Localisation','Salaire Actuel','Prétention','Préavis',\n",
    "            'Commentaire','TJM','target','Source','Url','Colonne1','ID2'],axis=1)\n",
    "df.columns"
   ]
  },
  {
   "cell_type": "markdown",
   "metadata": {},
   "source": [
    "### 3.2 Check the number of each category in 'Domaine'"
   ]
  },
  {
   "cell_type": "code",
   "execution_count": 12,
   "metadata": {},
   "outputs": [
    {
     "name": "stdout",
     "output_type": "stream",
     "text": [
      "Domaine\n",
      "ingénieur mécanique        102\n",
      "technicien spécialisé      101\n",
      "ingénieu qualité           100\n",
      "économie / gestion         100\n",
      "ingénieur                  100\n",
      "chargé de développement    100\n",
      "concepteur/ dessinateur    100\n",
      "logistique                 100\n",
      "ingénieur process          100\n",
      "ingénieur industriel        99\n",
      "opérateur                   25\n",
      "autres                       5\n",
      "technicien                   3\n",
      "Ingénieur Industriel         1\n",
      "Name: count, dtype: int64\n",
      "\n",
      "length domain : 1036\n"
     ]
    }
   ],
   "source": [
    "domain_counts = df['Domaine'].value_counts()\n",
    "print(domain_counts)\n",
    "c = df['Domaine'].shape[0]\n",
    "print('\\nlength domain :',c )"
   ]
  },
  {
   "cell_type": "markdown",
   "metadata": {},
   "source": [
    "### 3.3 Drop outliers"
   ]
  },
  {
   "cell_type": "code",
   "execution_count": 13,
   "metadata": {},
   "outputs": [],
   "source": [
    "f = df[df['Domaine'] != 'technicien']\n",
    "df = df[df['Domaine'] != 'opérateur']\n",
    "df = df[df['Domaine'] != 'autres']"
   ]
  },
  {
   "cell_type": "markdown",
   "metadata": {},
   "source": [
    "### 3.4 Correct misspelling errors"
   ]
  },
  {
   "cell_type": "code",
   "execution_count": 14,
   "metadata": {},
   "outputs": [],
   "source": [
    "df['Domaine'] = df['Domaine'].replace('Ingénieur Industriel', 'ingénieur industriel')\n",
    "df['Domaine'] = df['Domaine'].replace('ingénieu qualité', 'ingénieur qualité')"
   ]
  },
  {
   "cell_type": "markdown",
   "metadata": {},
   "source": [
    "### 3.5 Rename columns"
   ]
  },
  {
   "cell_type": "code",
   "execution_count": 15,
   "metadata": {},
   "outputs": [],
   "source": [
    "df.rename(columns = {'Domaine':'Domain'}, inplace = True) \n",
    "df.rename(columns = {'Normalized_ColonneExperience':'Experience'}, inplace = True) \n",
    "df.rename(columns = {'Normalized_ColonneNiveau':'Niveau'}, inplace = True) "
   ]
  },
  {
   "cell_type": "markdown",
   "metadata": {},
   "source": [
    "### 3.6 Check missing values"
   ]
  },
  {
   "cell_type": "code",
   "execution_count": 16,
   "metadata": {},
   "outputs": [
    {
     "name": "stdout",
     "output_type": "stream",
     "text": [
      "\n",
      "Missing Values:\n",
      "Domain            0\n",
      "Gender            0\n",
      "Experience        0\n",
      "Niveau            0\n",
      "Weighted_Score    0\n",
      "Output            0\n",
      "dtype: int64\n"
     ]
    }
   ],
   "source": [
    "missing_values = df.isnull().sum()\n",
    "print(\"\\nMissing Values:\")\n",
    "print(missing_values)"
   ]
  },
  {
   "cell_type": "markdown",
   "metadata": {},
   "source": [
    "### 3.7 Encode Categorical columns\n",
    "#### 3.7.1 Encode 'Domain' column"
   ]
  },
  {
   "cell_type": "code",
   "execution_count": 17,
   "metadata": {},
   "outputs": [
    {
     "name": "stdout",
     "output_type": "stream",
     "text": [
      "Unique Domain values with their corresponding encodings:\n",
      "                      Domain  Domain_encoded\n",
      "0          ingénieur qualité               6\n",
      "1         économie / gestion              10\n",
      "2      technicien spécialisé               9\n",
      "3                  ingénieur               2\n",
      "4       ingénieur industriel               3\n",
      "8    chargé de développement               0\n",
      "12   concepteur/ dessinateur               1\n",
      "13                logistique               7\n",
      "25       ingénieur mécanique               4\n",
      "29         ingénieur process               5\n",
      "364               technicien               8\n",
      "Unique Domain values with their corresponding encodings saved to data/domain_encoded.xlsx\n"
     ]
    }
   ],
   "source": [
    "label_encoder = LabelEncoder()\n",
    "\n",
    "df['Domain_encoded'] = label_encoder.fit_transform(df['Domain'])\n",
    "# Display unique values of 'Domain' along with their corresponding encoding\n",
    "unique_domain_encoded = df[['Domain', 'Domain_encoded']].drop_duplicates()\n",
    "print(\"Unique Domain values with their corresponding encodings:\")\n",
    "print(unique_domain_encoded)\n",
    "# Save to Excel sheet\n",
    "output_file_path = 'data/domain_encoded.xlsx' \n",
    "unique_domain_encoded.to_excel(output_file_path, index=False)\n",
    "print(f\"Unique Domain values with their corresponding encodings saved to {output_file_path}\")\n",
    "df=df.drop('Domain',axis=1)\n",
    "df.rename(columns = {'Domain_encoded':'Domain'}, inplace = True) "
   ]
  },
  {
   "cell_type": "markdown",
   "metadata": {},
   "source": [
    "#### 3.7.2 Encode 'Gender' column"
   ]
  },
  {
   "cell_type": "code",
   "execution_count": 18,
   "metadata": {},
   "outputs": [
    {
     "name": "stdout",
     "output_type": "stream",
     "text": [
      "0    1\n",
      "1    0\n",
      "2    1\n",
      "3    1\n",
      "4    1\n",
      "Name: Gender, dtype: int32\n"
     ]
    }
   ],
   "source": [
    "df['Gender'] = label_encoder.fit_transform(df['Gender'])\n",
    "print(df['Gender'].head()) # male = 1 and female = 0 "
   ]
  },
  {
   "cell_type": "code",
   "execution_count": 19,
   "metadata": {},
   "outputs": [
    {
     "name": "stdout",
     "output_type": "stream",
     "text": [
      "   Gender  Experience  Niveau  Weighted_Score  Output  Domain\n",
      "0       1        0.24    0.42            0.31     1.0       6\n",
      "1       0        0.03    0.25            0.12     0.0      10\n",
      "2       1        0.10    0.17            0.13     0.0       9\n",
      "3       1        0.24    0.42            0.31     1.0       2\n",
      "4       1        0.07    0.42            0.21     0.0       3\n"
     ]
    }
   ],
   "source": [
    "print(df.head())"
   ]
  },
  {
   "cell_type": "markdown",
   "metadata": {},
   "source": [
    "## 4 Data"
   ]
  },
  {
   "cell_type": "markdown",
   "metadata": {},
   "source": [
    "### 4 Save the results to a new file"
   ]
  },
  {
   "cell_type": "code",
   "execution_count": 20,
   "metadata": {},
   "outputs": [
    {
     "name": "stdout",
     "output_type": "stream",
     "text": [
      "Results saved to: ./data/clean_data.csv\n"
     ]
    }
   ],
   "source": [
    "output_file_path = './data/clean_data.csv'  \n",
    "df.to_csv(output_file_path, index=False)\n",
    "print(f\"Results saved to: {output_file_path}\")"
   ]
  }
 ],
 "metadata": {
  "kernelspec": {
   "display_name": "Python 3",
   "language": "python",
   "name": "python3"
  },
  "language_info": {
   "codemirror_mode": {
    "name": "ipython",
    "version": 3
   },
   "file_extension": ".py",
   "mimetype": "text/x-python",
   "name": "python",
   "nbconvert_exporter": "python",
   "pygments_lexer": "ipython3",
   "version": "3.11.0"
  }
 },
 "nbformat": 4,
 "nbformat_minor": 2
}
